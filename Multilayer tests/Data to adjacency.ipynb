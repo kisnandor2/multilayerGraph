{
 "cells": [
  {
   "cell_type": "code",
   "execution_count": 1,
   "metadata": {},
   "outputs": [],
   "source": [
    "import pandas as pd\n",
    "import numpy as np"
   ]
  },
  {
   "cell_type": "code",
   "execution_count": 35,
   "metadata": {},
   "outputs": [],
   "source": [
    "def dataToAdjacency(edgeFileName, nodeFileName, prefix):\n",
    "#   edgeFileName = 'Aarhus/CS-Aarhus_multiplex.edges'\n",
    "#   nodeFileName = 'Aarhus/CS-Aarhus_nodes.txt'\n",
    "#   prefix = 'aarhus_'\n",
    "  A = pd.read_csv(edgeFileName, sep=\" \", header=None)\n",
    "  layers = A[0].unique()\n",
    "  B = pd.read_csv(nodeFileName, sep=\" \")\n",
    "  nodes = B.nodeID.values\n",
    "  \n",
    "  for layer in layers:\n",
    "    adjacency = np.zeros((len(nodes), len(nodes)))\n",
    "    a = A[A[0] == layer]\n",
    "    for index, row in a.iterrows():\n",
    "      adjacency[int(row[1]-1),int(row[2]-1)] = row[3]\n",
    "      adjacency[int(row[2]-1),int(row[1]-1)] = row[3]\n",
    "    adjacency_df = pd.DataFrame(adjacency)\n",
    "    adjacency_df.to_csv(prefix + str(layer)+'.txt', sep=\" \", header=None, index=False)"
   ]
  },
  {
   "cell_type": "code",
   "execution_count": 8,
   "metadata": {},
   "outputs": [],
   "source": [
    "dataToAdjacency('Padgett-Florentine-Families/Padgett-Florentine-Families_multiplex.edges',\n",
    "                'Padgett-Florentine-Families/Padgett-Florentine-Families_nodes.txt',\n",
    "                'padgett_')"
   ]
  },
  {
   "cell_type": "code",
   "execution_count": 10,
   "metadata": {},
   "outputs": [],
   "source": [
    "dataToAdjacency('Krackhardt/Krackhardt-High-Tech_multiplex.edges',\n",
    "                'Krackhardt/Krackhardt-High-Tech_nodes.txt',\n",
    "                'krackhardt_')"
   ]
  },
  {
   "cell_type": "code",
   "execution_count": 36,
   "metadata": {},
   "outputs": [],
   "source": [
    "dataToAdjacency('EUAir/EUAirTransportation_multiplex.edges',\n",
    "                'EUAir/EUAirTransportation_nodes.txt',\n",
    "                'euair_')"
   ]
  },
  {
   "cell_type": "code",
   "execution_count": 27,
   "metadata": {},
   "outputs": [
    {
     "data": {
      "text/plain": [
       "numpy.int64"
      ]
     },
     "execution_count": 27,
     "metadata": {},
     "output_type": "execute_result"
    }
   ],
   "source": [
    "A = pd.read_csv('EUAir/EUAirTransportation_multiplex.edges', sep=\" \", header=None)\n",
    "a = A[A[0] == 1]"
   ]
  }
 ],
 "metadata": {
  "kernelspec": {
   "display_name": "Python 3",
   "language": "python",
   "name": "python3"
  },
  "language_info": {
   "codemirror_mode": {
    "name": "ipython",
    "version": 3
   },
   "file_extension": ".py",
   "mimetype": "text/x-python",
   "name": "python",
   "nbconvert_exporter": "python",
   "pygments_lexer": "ipython3",
   "version": "3.6.6"
  }
 },
 "nbformat": 4,
 "nbformat_minor": 2
}
