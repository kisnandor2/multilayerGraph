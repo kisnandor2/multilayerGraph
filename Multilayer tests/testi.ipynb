{
 "cells": [
  {
   "cell_type": "code",
   "execution_count": 2,
   "metadata": {},
   "outputs": [
    {
     "name": "stderr",
     "output_type": "stream",
     "text": [
      "UsageError: Line magic function `%%time` not found.\n"
     ]
    }
   ],
   "source": [
    "%load_ext autotime\n",
    "\n",
    "import pygmo as pg\n",
    "import numpy as np\n",
    "import networkx as nx\n",
    "import pandas as pd\n",
    "\n",
    "import community as comm\n",
    "\n",
    "import matplotlib.pyplot as plt\n",
    "\n",
    "aarhus = ['aarhus_1.txt', 'aarhus_2.txt', 'aarhus_3.txt', 'aarhus_4.txt', 'aarhus_5.txt']\n",
    "\n",
    "euair = ['euair_1.txt', 'euair_10.txt', 'euair_11.txt', 'euair_12.txt', 'euair_13.txt', 'euair_14.txt', 'euair_15.txt', 'euair_16.txt', 'euair_17.txt', 'euair_18.txt', 'euair_19.txt', 'euair_2.txt', 'euair_20.txt', 'euair_21.txt', 'euair_22.txt', 'euair_23.txt', 'euair_24.txt', 'euair_25.txt', 'euair_26.txt', 'euair_27.txt', 'euair_28.txt', 'euair_29.txt', 'euair_3.txt', 'euair_30.txt', 'euair_31.txt', 'euair_32.txt', 'euair_33.txt', 'euair_34.txt', 'euair_35.txt', 'euair_36.txt', 'euair_37.txt', 'euair_4.txt', 'euair_5.txt', 'euair_6.txt', 'euair_7.txt', 'euair_8.txt', 'euair_9.txt']\n",
    "\n",
    "krackhardt = ['krackhardt_1.txt', 'krackhardt_2.txt', 'krackhardt_3.txt']\n",
    "\n",
    "padgett = ['padgett_1.txt', 'padgett_2.txt']\n",
    "\n",
    "_4layers = ['output_4layer_1.txt', 'output_4layer_2.txt', 'output_4layer_3.txt', 'output_4layer_4.txt']\n",
    "\n",
    "_3layers = ['output_3layer_1.txt', 'output_3layer_2.txt', 'output_3layer_3.txt']\n",
    "\n",
    "\n",
    "%%time"
   ]
  },
  {
   "cell_type": "code",
   "execution_count": 60,
   "metadata": {},
   "outputs": [
    {
     "data": {
      "image/png": "[encoded data removed]",
      "text/plain": [
       "<Figure size 432x288 with 1 Axes>"
      ]
     },
     "metadata": {},
     "output_type": "display_data"
    },
    {
     "name": "stdout",
     "output_type": "stream",
     "text": [
      "time: 461 ms\n"
     ]
    }
   ],
   "source": [
    "G=nx.Graph()\n",
    "G.add_node(1,pos=(1,1))\n",
    "G.add_node(2,pos=(2,1))\n",
    "G.add_node(3,pos=(1,0))\n",
    "G.add_node(4,pos=(2,0))\n",
    "# G.add_edge(3,4,weight=1)\n",
    "G.add_edge(1,3,weight=1)\n",
    "G.add_edge(2,4,weight=1)\n",
    "G.add_edge(1,2,weight=1)\n",
    "pos=nx.get_node_attributes(G,'pos')\n",
    "nx.draw(G,pos)\n",
    "labels = nx.get_edge_attributes(G,'weight')\n",
    "nx.draw_networkx_edge_labels(G,pos,edge_labels=labels, font_size=20)\n",
    "nx.draw_networkx_edges(G, pos, width=2)\n",
    "nx.draw_networkx_labels(G, pos, font_size = 20)\n",
    "nx.draw_networkx_nodes(G, pos, node_size = 1100)\n",
    "plt.savefig('beforeMerge1.png', dpi=300)"
   ]
  },
  {
   "cell_type": "code",
   "execution_count": 93,
   "metadata": {},
   "outputs": [
    {
     "name": "stdout",
     "output_type": "stream",
     "text": [
      "time: 6.42 ms\n"
     ]
    }
   ],
   "source": [
    "class community_function:\n",
    "  def __init__(self, fileNames, alpha=None):\n",
    "    self.fileNames = fileNames\n",
    "    self.G = []\n",
    "    self.alpha = alpha\n",
    "    for fileName in self.fileNames:\n",
    "      g = self.getNeighbourMatrixFromFile(fileName)\n",
    "      self.G.append(g)\n",
    "    self.dim = len(list(self.G[0].nodes))\n",
    "    self.layers = len(fileNames)\n",
    "      \n",
    "  def fitness(self, x):\n",
    "    d = {}\n",
    "    for val, ind in zip(np.nditer(x), np.ndindex(x.shape[0])):\n",
    "      d[ind[0]] = int(val)\n",
    "      \n",
    "    partitions = []\n",
    "    for partitionNumber in set(d.values()):\n",
    "      partition = []\n",
    "      for key in d:\n",
    "        if d[key] == partitionNumber:\n",
    "          partition.append(key)\n",
    "      partitions.append(partition)  \n",
    "    \n",
    "    fitness = 0\n",
    "    for g in self.G:\n",
    "      for partition in partitions:\n",
    "        k_out = 0\n",
    "        for node in partition:\n",
    "          for i in g.neighbors(node):\n",
    "            if i not in partition:\n",
    "              k_out += 1\n",
    "\n",
    "        k_in = 0\n",
    "        for node in partition:\n",
    "          for i in g.neighbors(node):\n",
    "            if i in partition:\n",
    "              k_in += 1\n",
    "        k_in = k_in//2\n",
    "        \n",
    "        fitness += k_in/((k_in + k_out)**(self.alpha))\n",
    "        \n",
    "    return [0 - fitness]\n",
    "\n",
    "  def get_bounds(self):\n",
    "    return ([1] * self.dim, [self.dim] * self.dim)\n",
    "  \n",
    "  def get_nix(self):\n",
    "    # Number of integer dimensions (all of them)\n",
    "    print(self.dim)\n",
    "    return self.dim\n",
    "  \n",
    "  def get_name(self):\n",
    "    ret = \"Best partition for multiplex graph\\n\"\n",
    "    for fileName in self.fileNames:\n",
    "      ret +=\"File: \" + fileName + \"\\n\"\n",
    "    ret += \"Dimension: \" + str(self.dim)\n",
    "    ret += \"\\n\\n\"\n",
    "    return ret\n",
    "  \n",
    "  def getNeighbourMatrixFromFile(self, fileName):\n",
    "    A = pd.read_csv(fileName, sep=\" \", header=None)\n",
    "    G = nx.from_numpy_matrix(np.array(A))\n",
    "    return G\n",
    "  \n",
    "  def drawPartition(self, graphIndex=0, partition=None, fun=nx.spring_layout, suffix=None):\n",
    "    if partition is None:\n",
    "      raise ValueError(\"No partition passed as parameter!!\")\n",
    "    if type(partition) is list:\n",
    "      partition = {key:val for key, val in enumerate(partition)}\n",
    "    if type(partition) is not dict:\n",
    "      raise ValueError(\"Invalid partititon as input: \" + str(type(partition)))\n",
    "\n",
    "    plt.clf()\n",
    "      \n",
    "    colors = self.getColors()\n",
    "    G = self.G[graphIndex]\n",
    "    pos = fun(G)\n",
    "    count = 0\n",
    "    \n",
    "    for com in set(partition.values()):\n",
    "      toDraw = True\n",
    "      list_nodes = [nodes for nodes in partition.keys() if partition[nodes] == com]\n",
    "      labels = dict()\n",
    "      for node in list_nodes:\n",
    "        labels[node] = node+1\n",
    "      node_colors = np.zeros((len(list_nodes), 3))\n",
    "      if len(list_nodes) <= 1:\n",
    "        node_colors[:] = [1, 1, 1]\n",
    "        if fun != nx.circular_layout:\n",
    "          toDraw = False\n",
    "      else:\n",
    "        try:\n",
    "          node_colors[:] = colors[count]\n",
    "        except:\n",
    "          node_colors[:] = [1, 1, 1]\n",
    "        count += 1\n",
    "      if toDraw:\n",
    "        nx.draw_networkx_nodes(G, pos, list_nodes, node_size = 200, node_color=node_colors)\n",
    "        nx.draw_networkx_labels(G, pos, labels)\n",
    "    nx.draw_networkx_edges(G, pos, width=0.4)\n",
    "    \n",
    "    outfile=self.fileNames[graphIndex] + str(suffix) + \"_moea.png\"\n",
    "    plt.savefig(outfile, dpi=300)\n",
    "    \n",
    "  def getColors(self):\n",
    "    return np.array([\n",
    "            [166,206,227],\n",
    "            [31,120,180],\n",
    "            [178,223,138],\n",
    "            [51,160,44],\n",
    "            [251,154,153],\n",
    "            [227,26,28],\n",
    "            [253,191,111],\n",
    "            [255,127,0],\n",
    "            [202,178,214],\n",
    "            [106,61,154],\n",
    "            [255,255,153],\n",
    "            [177,89,40]\n",
    "          ])/255"
   ]
  },
  {
   "cell_type": "code",
   "execution_count": 94,
   "metadata": {},
   "outputs": [
    {
     "name": "stdout",
     "output_type": "stream",
     "text": [
      "40\n",
      "40\n",
      "40\n",
      "40\n",
      "40\n",
      "40\n",
      "40\n",
      "40\n",
      "40\n",
      "40\n",
      "40\n"
     ]
    },
    {
     "data": {
      "image/png": "[encoded data removed]",
      "text/plain": [
       "<Figure size 432x288 with 1 Axes>"
      ]
     },
     "metadata": {
      "needs_background": "light"
     },
     "output_type": "display_data"
    },
    {
     "name": "stdout",
     "output_type": "stream",
     "text": [
      "time: 2min 1s\n"
     ]
    }
   ],
   "source": [
    "for alpha in np.arange(0,1.1,0.1):\n",
    "  # problem = pg.problem(community_function(aarhus))\n",
    "  # problem = pg.problem(community_function(euair))\n",
    "  # problem = pg.problem(community_function(krackhardt))\n",
    "  # problem = pg.problem(community_function(padgett))\n",
    "  problem = pg.problem(community_function(_4layers, alpha=0.75))\n",
    "  # problem = pg.problem(community_function(_3layers))\n",
    "\n",
    "  algo = pg.algorithm(pg.sga(gen=2000))\n",
    "  population = pg.population(problem, 20)\n",
    "  population = algo.evolve(population)\n",
    "  champion_x = population.champion_x\n",
    "  champion_x\n",
    "\n",
    "  cf = problem.extract(object)\n",
    "  for i in range(len(cf.G)):\n",
    "    cf.drawPartition(i, list(champion_x), suffix='alpha_'+str(alpha))"
   ]
  }
 ],
 "metadata": {
  "kernelspec": {
   "display_name": "Python 3",
   "language": "python",
   "name": "python3"
  },
  "language_info": {
   "codemirror_mode": {
    "name": "ipython",
    "version": 3
   },
   "file_extension": ".py",
   "mimetype": "text/x-python",
   "name": "python",
   "nbconvert_exporter": "python",
   "pygments_lexer": "ipython3",
   "version": "3.6.7"
  }
 },
 "nbformat": 4,
 "nbformat_minor": 2
}
