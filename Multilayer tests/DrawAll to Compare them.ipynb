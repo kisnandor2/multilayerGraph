{
 "cells": [
  {
   "cell_type": "code",
   "execution_count": 5,
   "metadata": {},
   "outputs": [],
   "source": [
    "import networkx as nx\n",
    "import numpy as np\n",
    "import pandas as pd\n",
    "import matplotlib.pyplot as plt\n",
    "\n",
    "_mlfr_2layer = {\n",
    "  'allCommunities': '2layer_mlfr_all_community.txt',\n",
    "  'communities': ['mLFR/2layer_mlfr_Layer1_Community.txt', 'mLFR/2layer_mlfr_Layer2_Community.txt'],\n",
    "  'layers': ['mLFR/2layer_mlfr_Layer1_.txt', 'mLFR/2layer_mlfr_Layer2_.txt']\n",
    "}\n",
    "\n",
    "_mlfr_3layer = {\n",
    "  'allCommunities': '3layer_mlfr_all_community.txt',\n",
    "  'communities': ['mLFR/3layer_mlfr_Layer1_Community.txt', 'mLFR/3layer_mlfr_Layer2_Community.txt', 'mLFR/3layer_mlfr_Layer3_Community.txt'],\n",
    "  'layers': ['mLFR/3layer_mlfr_Layer1_.txt', 'mLFR/3layer_mlfr_Layer2_.txt', 'mLFR/3layer_mlfr_Layer3_.txt']\n",
    "}\n",
    "\n",
    "_mlfr_4layer = {\n",
    "  'allCommunities' : '4layer_mlfr_all_community.txt',\n",
    "  'communities': ['mLFR/4layer_mlfr_Community.txt', 'mLFR/4layer_mlfr_Community.txt', 'mLFR/4layer_mlfr_Community.txt', 'mLFR/4layer_mlfr_Community.txt'],\n",
    "  'layers' : ['mLFR/4layer_mlfr_Layer1_.txt', 'mLFR/4layer_mlfr_Layer2_.txt', 'mLFR/4layer_mlfr_Layer3_.txt', 'mLFR/4layer_mlfr_Layer4_.txt']\n",
    "}\n",
    " \n",
    "_mlfr_4layer_overlap = {\n",
    "  'allCommunities' : '4layer_mlfr_overlap_all_community.txt',\n",
    "  'communities': ['mLFR/4layer_mlfr_overlap_Layer1_Community.txt', 'mLFR/4layer_mlfr_overlap_Layer2_Community.txt', 'mLFR/4layer_mlfr_overlap_Layer3_Community.txt', 'mLFR/4layer_mlfr_overlap_Layer4_Community.txt'],\n",
    "  'layers' : ['mLFR/4layer_mlfr_overlap_Layer1_.txt', 'mLFR/4layer_mlfr_overlap_Layer2_.txt', 'mLFR/4layer_mlfr_overlap_Layer3_.txt', 'mLFR/4layer_mlfr_overlap_Layer4_.txt']\n",
    "}\n",
    "\n",
    "test = {\n",
    "  'communities': ['mLFR3/3layer_mu0.1_multi_Layer1_Community.txt', 'mLFR3/3layer_mu0.1_multi_Layer2_Community.txt', 'mLFR3/3layer_mu0.1_multi_Layer3_Community.txt'],\n",
    "  'layers' : ['mLFR3/3layer_mu0.1_multi_Layer1_Network.txt.txt', 'mLFR3/3layer_mu0.1_multi_Layer2_Network.txt.txt', 'mLFR3/3layer_mu0.1_multi_Layer3_Network.txt.txt']\n",
    "}"
   ]
  },
  {
   "cell_type": "code",
   "execution_count": 2,
   "metadata": {},
   "outputs": [],
   "source": [
    "def drawPartition(G, partitionList=None, outfileList=None, fun=nx.spring_layout):\n",
    "  pos = fun(G)\n",
    "  colors = getColors()\n",
    "  i = 0\n",
    "  \n",
    "  for partition in partitionList:\n",
    "    if partition is None:\n",
    "      raise ValueError(\"No partition passed as parameter!!\")\n",
    "    if type(partition) is list:\n",
    "      partition = {key:val for key, val in enumerate(partition)}\n",
    "    if type(partition) is not dict:\n",
    "      raise ValueError(\"Invalid partititon as input: \" + str(type(partition)))\n",
    "    if outfileList is None:\n",
    "      raise ValueError(\"Outfile not sepcified!\")\n",
    "\n",
    "    plt.clf()\n",
    "    count = 0\n",
    "    \n",
    "    for com in set(partition.values()):\n",
    "      toDraw = True\n",
    "      list_nodes = [nodes for nodes in partition.keys() if partition[nodes] == com]\n",
    "      labels = dict()\n",
    "      for node in list_nodes:\n",
    "        labels[node] = node+1\n",
    "      node_colors = np.zeros((len(list_nodes), 3))\n",
    "      if len(list_nodes) <= 3:\n",
    "        node_colors[:] = [1, 1, 1]\n",
    "        if fun != nx.circular_layout:\n",
    "          toDraw = False\n",
    "      else:\n",
    "        try:\n",
    "          node_colors[:] = colors[count]\n",
    "          count += 1\n",
    "        except:\n",
    "          node_colors[:] = [1, 1, 1]\n",
    "      if toDraw:\n",
    "        nx.draw_networkx_nodes(G, pos, list_nodes, node_size = 20, node_color=node_colors)\n",
    "        nx.draw_networkx_labels(G, pos, labels, font_size = 3)\n",
    "    nx.draw_networkx_edges(G, pos, width=0.2)\n",
    "\n",
    "    print(outfileList[i])\n",
    "    plt.savefig(outfileList[i], dpi=300)\n",
    "    i += 1\n",
    "    \n",
    "def getColors():\n",
    "  return np.array([\n",
    "          [230, 25, 75],\n",
    "          [60, 180, 75],\n",
    "          [255, 225, 25],\n",
    "          [0, 130, 200],\n",
    "          [245, 130, 48],\n",
    "          [145, 30, 180],\n",
    "          [70, 240, 240],\n",
    "          [240, 50, 230],\n",
    "          [210, 245, 60],\n",
    "          [250, 190, 190],\n",
    "          [0, 128, 128],\n",
    "          [230, 190, 255],\n",
    "          [170, 110, 40],\n",
    "          [255, 250, 200],\n",
    "          [128, 0, 0],\n",
    "          [170, 255, 195],\n",
    "          [128, 128, 0],\n",
    "          [255, 215, 180],\n",
    "          [0, 0, 128],\n",
    "          [128, 128, 128],\n",
    "          [0, 0, 0]\n",
    "        ])/255"
   ]
  },
  {
   "cell_type": "code",
   "execution_count": 7,
   "metadata": {},
   "outputs": [
    {
     "name": "stdout",
     "output_type": "stream",
     "text": [
      "mLFR3/3layer_mu0.1_multi_Layer1_Community.txt1.png\n"
     ]
    },
    {
     "ename": "ValueError",
     "evalue": "Invalid partititon as input: <class 'numpy.ndarray'>",
     "output_type": "error",
     "traceback": [
      "\u001b[0;31m---------------------------------------------------------------------------\u001b[0m",
      "\u001b[0;31mValueError\u001b[0m                                Traceback (most recent call last)",
      "\u001b[0;32m<ipython-input-7-b52c1d12bc0f>\u001b[0m in \u001b[0;36m<module>\u001b[0;34m\u001b[0m\n\u001b[1;32m     22\u001b[0m   \u001b[0moutList\u001b[0m\u001b[0;34m.\u001b[0m\u001b[0mappend\u001b[0m\u001b[0;34m(\u001b[0m\u001b[0mtoDraw\u001b[0m\u001b[0;34m[\u001b[0m\u001b[0;34m'communities'\u001b[0m\u001b[0;34m]\u001b[0m\u001b[0;34m[\u001b[0m\u001b[0mi\u001b[0m\u001b[0;34m]\u001b[0m\u001b[0;34m+\u001b[0m\u001b[0mstr\u001b[0m\u001b[0;34m(\u001b[0m\u001b[0mi\u001b[0m\u001b[0;34m+\u001b[0m\u001b[0;36m1\u001b[0m\u001b[0;34m)\u001b[0m\u001b[0;34m+\u001b[0m\u001b[0;34m\"ALL.png\"\u001b[0m\u001b[0;34m)\u001b[0m\u001b[0;34m\u001b[0m\u001b[0;34m\u001b[0m\u001b[0m\n\u001b[1;32m     23\u001b[0m \u001b[0;34m\u001b[0m\u001b[0m\n\u001b[0;32m---> 24\u001b[0;31m   \u001b[0mdrawPartition\u001b[0m\u001b[0;34m(\u001b[0m\u001b[0mG\u001b[0m\u001b[0;34m,\u001b[0m \u001b[0mcommList\u001b[0m\u001b[0;34m,\u001b[0m \u001b[0moutList\u001b[0m\u001b[0;34m)\u001b[0m\u001b[0;34m\u001b[0m\u001b[0;34m\u001b[0m\u001b[0m\n\u001b[0m",
      "\u001b[0;32m<ipython-input-2-c7dd64983267>\u001b[0m in \u001b[0;36mdrawPartition\u001b[0;34m(G, partitionList, outfileList, fun)\u001b[0m\n\u001b[1;32m     10\u001b[0m       \u001b[0mpartition\u001b[0m \u001b[0;34m=\u001b[0m \u001b[0;34m{\u001b[0m\u001b[0mkey\u001b[0m\u001b[0;34m:\u001b[0m\u001b[0mval\u001b[0m \u001b[0;32mfor\u001b[0m \u001b[0mkey\u001b[0m\u001b[0;34m,\u001b[0m \u001b[0mval\u001b[0m \u001b[0;32min\u001b[0m \u001b[0menumerate\u001b[0m\u001b[0;34m(\u001b[0m\u001b[0mpartition\u001b[0m\u001b[0;34m)\u001b[0m\u001b[0;34m}\u001b[0m\u001b[0;34m\u001b[0m\u001b[0;34m\u001b[0m\u001b[0m\n\u001b[1;32m     11\u001b[0m     \u001b[0;32mif\u001b[0m \u001b[0mtype\u001b[0m\u001b[0;34m(\u001b[0m\u001b[0mpartition\u001b[0m\u001b[0;34m)\u001b[0m \u001b[0;32mis\u001b[0m \u001b[0;32mnot\u001b[0m \u001b[0mdict\u001b[0m\u001b[0;34m:\u001b[0m\u001b[0;34m\u001b[0m\u001b[0;34m\u001b[0m\u001b[0m\n\u001b[0;32m---> 12\u001b[0;31m       \u001b[0;32mraise\u001b[0m \u001b[0mValueError\u001b[0m\u001b[0;34m(\u001b[0m\u001b[0;34m\"Invalid partititon as input: \"\u001b[0m \u001b[0;34m+\u001b[0m \u001b[0mstr\u001b[0m\u001b[0;34m(\u001b[0m\u001b[0mtype\u001b[0m\u001b[0;34m(\u001b[0m\u001b[0mpartition\u001b[0m\u001b[0;34m)\u001b[0m\u001b[0;34m)\u001b[0m\u001b[0;34m)\u001b[0m\u001b[0;34m\u001b[0m\u001b[0;34m\u001b[0m\u001b[0m\n\u001b[0m\u001b[1;32m     13\u001b[0m     \u001b[0;32mif\u001b[0m \u001b[0moutfileList\u001b[0m \u001b[0;32mis\u001b[0m \u001b[0;32mNone\u001b[0m\u001b[0;34m:\u001b[0m\u001b[0;34m\u001b[0m\u001b[0;34m\u001b[0m\u001b[0m\n\u001b[1;32m     14\u001b[0m       \u001b[0;32mraise\u001b[0m \u001b[0mValueError\u001b[0m\u001b[0;34m(\u001b[0m\u001b[0;34m\"Outfile not sepcified!\"\u001b[0m\u001b[0;34m)\u001b[0m\u001b[0;34m\u001b[0m\u001b[0;34m\u001b[0m\u001b[0m\n",
      "\u001b[0;31mValueError\u001b[0m: Invalid partititon as input: <class 'numpy.ndarray'>"
     ]
    },
    {
     "data": {
      "image/png": "[encoded data removed]",
      "text/plain": [
       "<Figure size 432x288 with 1 Axes>"
      ]
     },
     "metadata": {
      "needs_background": "light"
     },
     "output_type": "display_data"
    }
   ],
   "source": [
    "# toDraw = _mlfr_2layer\n",
    "# toDraw = _mlfr_3layer\n",
    "# toDraw = _mlfr_4layer\n",
    "# toDraw = _mlfr_4layer_overlap\n",
    "toDraw = test\n",
    "\n",
    "for i in range(len(toDraw['layers'])):\n",
    "  commList = []\n",
    "  outList = []\n",
    "  A = pd.read_csv(toDraw['layers'][i], sep=\" \", header=None)\n",
    "  G = nx.from_numpy_matrix(np.array(A))\n",
    "  \n",
    "#   inp = pd.read_csv(toDraw['allCommunities'], sep=\" \", header=None)\n",
    "#   commList.append(list(inp[1].values))\n",
    "#   outList.append(toDraw['allCommunities']+str(i+1)+\".png\")\n",
    "  \n",
    "  inp = pd.read_csv(toDraw['communities'][i], sep=\" \", header=None)\n",
    "  commList.append(list(inp[1].values))\n",
    "  outList.append(toDraw['communities'][i]+str(i+1)+\".png\")\n",
    "  \n",
    "  commList.append(np.ones((128)))\n",
    "  outList.append(toDraw['communities'][i]+str(i+1)+\"ALL.png\")\n",
    "  \n",
    "  drawPartition(G, commList, outList)"
   ]
  },
  {
   "cell_type": "code",
   "execution_count": 14,
   "metadata": {},
   "outputs": [
    {
     "data": {
      "text/plain": [
       "[1, 2, 3]"
      ]
     },
     "execution_count": 14,
     "metadata": {},
     "output_type": "execute_result"
    }
   ],
   "source": [
    "a = [1,2]\n",
    "a.append(3)"
   ]
  }
 ],
 "metadata": {
  "kernelspec": {
   "display_name": "Python 3",
   "language": "python",
   "name": "python3"
  },
  "language_info": {
   "codemirror_mode": {
    "name": "ipython",
    "version": 3
   },
   "file_extension": ".py",
   "mimetype": "text/x-python",
   "name": "python",
   "nbconvert_exporter": "python",
   "pygments_lexer": "ipython3",
   "version": "3.6.7"
  }
 },
 "nbformat": 4,
 "nbformat_minor": 2
}
